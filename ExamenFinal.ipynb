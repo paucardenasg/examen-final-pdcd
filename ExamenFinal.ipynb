{
 "cells": [
  {
   "cell_type": "markdown",
   "metadata": {
    "pycharm": {
     "name": "#%% md\n"
    }
   },
   "source": [
    "## <font color = 'darkblue'> Funding Challenge </font>\n",
    "### <font color = 'blue'> Examen Final </font>\n",
    "#### `Paula Daniela Cárdenas Gallardo | 733720`\n",
    "#### `Proyecto de Ciencia de Datos | Cristian Camilo Zapata Zuluaga`\n",
    "> **Viernes 25 de Noviembre de 2022**"
   ]
  },
  {
   "cell_type": "markdown",
   "metadata": {
    "pycharm": {
     "name": "#%% md\n"
    }
   },
   "source": [
    "___\n",
    "**`Contenido:`**\n",
    "+ **Planteamiento del problema**\n",
    "+ **Datos**\n",
    "    + Análisis Exploratorio de Datos (EDA)\n",
    "    + Ingeniería de Características (Data Wrangling)\n",
    "+ **Modelado**\n",
    "    + Entrenamiento\n",
    "    + Validación\n",
    "    + Evaluación\n",
    "    + Selección"
   ]
  },
  {
   "cell_type": "markdown",
   "metadata": {
    "pycharm": {
     "name": "#%% md\n"
    }
   },
   "source": [
    "___\n",
    "### <font color = 'maroon'> Planetamiento del Problema </font>\n",
    "El conjunto de datos con el que se trabajará está en este [enlace](https://drive.google.com/file/d/1sQ7Fw0tO9GV-qnErJTQEbnqAACcPc18Q/view). Éste contiene información sobre proyectos que los maestros desarrollan en escuelas de Estados Unidos, buscando mejorar las condiciones de los estudiantes, resolver problemáticas como el *bullying*, mejorar el prendizaje, entre otros. Dentro de la carpeta `Projects_cleansed.zip` se encuentran las siguientes variables:\n",
    "+ **`Project Title`** $\\Rightarrow$ Nombre del proyecto\n",
    "+ **`Project Short Description`** $\\Rightarrow$ Descripción corta del proyecto\n",
    "+ **`Project Subject Category Tree`** $\\Rightarrow$ Taxonomía que indica el área al que pertenece el proyecto\n",
    "+ **`Project Cost`** $\\Rightarrow$ Cantidad que se busca fondear\n",
    "+ **`Project Current Status`** $\\Rightarrow$ Si el proyecto fue fondedado o no (variable de respuesta)\n",
    "\n",
    "Al final, el modelo deberá recibir como entrada una descripción textual sobre un proyecto para predecir si se le otorgarán fondos o no, $1$ siendo que sí y $0$ que no."
   ]
  },
  {
   "cell_type": "markdown",
   "metadata": {
    "pycharm": {
     "name": "#%% md\n"
    }
   },
   "source": [
    "___\n",
    "### <font color = 'maroon'> Datos </font>"
   ]
  },
  {
   "cell_type": "code",
   "execution_count": 1,
   "metadata": {
    "pycharm": {
     "is_executing": true,
     "name": "#%%\n"
    }
   },
   "outputs": [],
   "source": [
    "# Librerías necesarias\n",
    "import pandas as pd\n",
    "import matplotlib.pyplot as plt\n",
    "from sklearn.model_selection import train_test_split\n",
    "import re\n",
    "import nltk\n",
    "import pickle\n",
    "import numpy as np\n",
    "from nltk.corpus import stopwords\n",
    "from sklearn.feature_extraction.text import CountVectorizer, TfidfTransformer\n",
    "from sklearn.metrics import recall_score, confusion_matrix, make_scorer, accuracy_score, precision_score,  f1_score\n",
    "from sklearn.linear_model import LogisticRegression\n",
    "from sklearn.model_selection import cross_validate, KFold,  GridSearchCV, cross_val_score\n",
    "from sklearn.linear_model import LogisticRegression\n",
    "from sklearn.svm import SVC\n",
    "from sklearn.tree import DecisionTreeClassifier\n",
    "from sklearn.ensemble import RandomForestClassifier\n",
    "import warnings\n",
    "warnings.filterwarnings('ignore')"
   ]
  },
  {
   "cell_type": "code",
   "execution_count": 2,
   "metadata": {
    "pycharm": {
     "name": "#%%\n"
    }
   },
   "outputs": [
    {
     "data": {
      "text/html": [
       "<div>\n",
       "<style scoped>\n",
       "    .dataframe tbody tr th:only-of-type {\n",
       "        vertical-align: middle;\n",
       "    }\n",
       "\n",
       "    .dataframe tbody tr th {\n",
       "        vertical-align: top;\n",
       "    }\n",
       "\n",
       "    .dataframe thead th {\n",
       "        text-align: right;\n",
       "    }\n",
       "</style>\n",
       "<table border=\"1\" class=\"dataframe\">\n",
       "  <thead>\n",
       "    <tr style=\"text-align: right;\">\n",
       "      <th></th>\n",
       "      <th>Project Title</th>\n",
       "      <th>Project Short Description</th>\n",
       "      <th>Project Subject Category Tree</th>\n",
       "      <th>Project Cost</th>\n",
       "      <th>Project Current Status</th>\n",
       "    </tr>\n",
       "  </thead>\n",
       "  <tbody>\n",
       "    <tr>\n",
       "      <th>0</th>\n",
       "      <td>Stand Up to Bullying: Together We Can!</td>\n",
       "      <td>Did you know that 1-7 students in grades K-12 ...</td>\n",
       "      <td>Applied Learning</td>\n",
       "      <td>361.80</td>\n",
       "      <td>Fully Funded</td>\n",
       "    </tr>\n",
       "    <tr>\n",
       "      <th>1</th>\n",
       "      <td>Learning in Color!</td>\n",
       "      <td>Help us have a fun, interactive listening cent...</td>\n",
       "      <td>Applied Learning, Literacy &amp; Language</td>\n",
       "      <td>512.85</td>\n",
       "      <td>Expired</td>\n",
       "    </tr>\n",
       "    <tr>\n",
       "      <th>2</th>\n",
       "      <td>Help Second Grade ESL Students Develop Languag...</td>\n",
       "      <td>Visiting or moving to a new place can be very ...</td>\n",
       "      <td>Literacy &amp; Language</td>\n",
       "      <td>435.92</td>\n",
       "      <td>Fully Funded</td>\n",
       "    </tr>\n",
       "    <tr>\n",
       "      <th>3</th>\n",
       "      <td>Help Bilingual Students Strengthen Reading Com...</td>\n",
       "      <td>Students at our school are still working hard ...</td>\n",
       "      <td>Literacy &amp; Language</td>\n",
       "      <td>161.26</td>\n",
       "      <td>Fully Funded</td>\n",
       "    </tr>\n",
       "    <tr>\n",
       "      <th>4</th>\n",
       "      <td>Help Us Make Each Minute Count!</td>\n",
       "      <td>\"Idle hands\" were something that Issac Watts s...</td>\n",
       "      <td>Special Needs</td>\n",
       "      <td>264.19</td>\n",
       "      <td>Fully Funded</td>\n",
       "    </tr>\n",
       "    <tr>\n",
       "      <th>...</th>\n",
       "      <td>...</td>\n",
       "      <td>...</td>\n",
       "      <td>...</td>\n",
       "      <td>...</td>\n",
       "      <td>...</td>\n",
       "    </tr>\n",
       "    <tr>\n",
       "      <th>1109976</th>\n",
       "      <td>Screen Printing 101</td>\n",
       "      <td>Most of the scholars had no idea that they wou...</td>\n",
       "      <td>Music &amp; The Arts</td>\n",
       "      <td>633.84</td>\n",
       "      <td>Fully Funded</td>\n",
       "    </tr>\n",
       "    <tr>\n",
       "      <th>1109977</th>\n",
       "      <td>Flexible Seating for Super Second Graders!</td>\n",
       "      <td>My students are super second graders!!! Our sc...</td>\n",
       "      <td>Literacy &amp; Language, Math &amp; Science</td>\n",
       "      <td>626.24</td>\n",
       "      <td>Live</td>\n",
       "    </tr>\n",
       "    <tr>\n",
       "      <th>1109978</th>\n",
       "      <td>Growing Artists!</td>\n",
       "      <td>I teach at a Title I school, and 76% of studen...</td>\n",
       "      <td>Literacy &amp; Language, Music &amp; The Arts</td>\n",
       "      <td>193.13</td>\n",
       "      <td>Fully Funded</td>\n",
       "    </tr>\n",
       "    <tr>\n",
       "      <th>1109979</th>\n",
       "      <td>TIME For Kids!</td>\n",
       "      <td>I teach at a Title I school for a district tha...</td>\n",
       "      <td>Literacy &amp; Language</td>\n",
       "      <td>246.18</td>\n",
       "      <td>Live</td>\n",
       "    </tr>\n",
       "    <tr>\n",
       "      <th>1109980</th>\n",
       "      <td>Growing Digital Learners</td>\n",
       "      <td>My preschool students are the sweetest, despit...</td>\n",
       "      <td>Applied Learning, Literacy &amp; Language</td>\n",
       "      <td>578.16</td>\n",
       "      <td>Live</td>\n",
       "    </tr>\n",
       "  </tbody>\n",
       "</table>\n",
       "<p>1109981 rows × 5 columns</p>\n",
       "</div>"
      ],
      "text/plain": [
       "                                             Project Title  \\\n",
       "0                   Stand Up to Bullying: Together We Can!   \n",
       "1                                       Learning in Color!   \n",
       "2        Help Second Grade ESL Students Develop Languag...   \n",
       "3        Help Bilingual Students Strengthen Reading Com...   \n",
       "4                         Help Us Make Each Minute Count!    \n",
       "...                                                    ...   \n",
       "1109976                                Screen Printing 101   \n",
       "1109977         Flexible Seating for Super Second Graders!   \n",
       "1109978                                   Growing Artists!   \n",
       "1109979                                     TIME For Kids!   \n",
       "1109980                           Growing Digital Learners   \n",
       "\n",
       "                                 Project Short Description  \\\n",
       "0        Did you know that 1-7 students in grades K-12 ...   \n",
       "1        Help us have a fun, interactive listening cent...   \n",
       "2        Visiting or moving to a new place can be very ...   \n",
       "3        Students at our school are still working hard ...   \n",
       "4        \"Idle hands\" were something that Issac Watts s...   \n",
       "...                                                    ...   \n",
       "1109976  Most of the scholars had no idea that they wou...   \n",
       "1109977  My students are super second graders!!! Our sc...   \n",
       "1109978  I teach at a Title I school, and 76% of studen...   \n",
       "1109979  I teach at a Title I school for a district tha...   \n",
       "1109980  My preschool students are the sweetest, despit...   \n",
       "\n",
       "                 Project Subject Category Tree  Project Cost  \\\n",
       "0                             Applied Learning        361.80   \n",
       "1        Applied Learning, Literacy & Language        512.85   \n",
       "2                          Literacy & Language        435.92   \n",
       "3                          Literacy & Language        161.26   \n",
       "4                                Special Needs        264.19   \n",
       "...                                        ...           ...   \n",
       "1109976                       Music & The Arts        633.84   \n",
       "1109977    Literacy & Language, Math & Science        626.24   \n",
       "1109978  Literacy & Language, Music & The Arts        193.13   \n",
       "1109979                    Literacy & Language        246.18   \n",
       "1109980  Applied Learning, Literacy & Language        578.16   \n",
       "\n",
       "        Project Current Status  \n",
       "0                 Fully Funded  \n",
       "1                      Expired  \n",
       "2                 Fully Funded  \n",
       "3                 Fully Funded  \n",
       "4                 Fully Funded  \n",
       "...                        ...  \n",
       "1109976           Fully Funded  \n",
       "1109977                   Live  \n",
       "1109978           Fully Funded  \n",
       "1109979                   Live  \n",
       "1109980                   Live  \n",
       "\n",
       "[1109981 rows x 5 columns]"
      ]
     },
     "execution_count": 2,
     "metadata": {},
     "output_type": "execute_result"
    }
   ],
   "source": [
    "# Importar datos\n",
    "data = pd.read_csv('Projects_cleansed.csv')\n",
    "data"
   ]
  },
  {
   "cell_type": "markdown",
   "metadata": {
    "pycharm": {
     "name": "#%% md\n"
    }
   },
   "source": [
    "___\n",
    "**`EDA`**"
   ]
  },
  {
   "cell_type": "code",
   "execution_count": 3,
   "metadata": {
    "pycharm": {
     "name": "#%%\n"
    }
   },
   "outputs": [
    {
     "name": "stdout",
     "output_type": "stream",
     "text": [
      "+ Tipo: \n",
      " <class 'pandas.core.frame.DataFrame'>\n",
      "\n",
      "+ Dimensión de los datos: \n",
      " (1109981, 5)\n",
      "\n",
      "+ Tipo de datos por columna: \n",
      "Project Title                     object\n",
      "Project Short Description         object\n",
      "Project Subject Category Tree     object\n",
      "Project Cost                     float64\n",
      "Project Current Status            object\n",
      "dtype: object\n",
      "\n",
      "+ Cantidad de nulos por columna: \n",
      "Project Title                    0\n",
      "Project Short Description        0\n",
      "Project Subject Category Tree    0\n",
      "Project Cost                     0\n",
      "Project Current Status           0\n",
      "dtype: int64\n",
      "\n",
      "+ Valores únicos por columna: \n",
      "Project Title                    926099\n",
      "Project Short Description        841865\n",
      "Project Subject Category Tree        51\n",
      "Project Cost                     163022\n",
      "Project Current Status                3\n",
      "dtype: int64\n"
     ]
    }
   ],
   "source": [
    "# Conocer los datos\n",
    "\n",
    "# Se guardan los datos como un DataFrame de pandas\n",
    "print(f'+ Tipo: \\n {type(data)}')\n",
    "\n",
    "# El tamaño de los datos se visualiza en una tupla; primero la cantidad de filas y después el número de columnas\n",
    "print(f'\\n+ Dimensión de los datos: \\n {data.shape}')\n",
    "\n",
    "# Tipo de cada variable\n",
    "print(f'\\n+ Tipo de datos por columna: \\n{data.dtypes}')\n",
    "\n",
    "# Conteo de valores nulos\n",
    "print(f'\\n+ Cantidad de nulos por columna: \\n{data.isnull().sum()}')\n",
    "\n",
    "# Valores únicos\n",
    "print(f'\\n+ Valores únicos por columna: \\n{data.nunique()}')"
   ]
  },
  {
   "cell_type": "code",
   "execution_count": 4,
   "metadata": {
    "pycharm": {
     "name": "#%%\n"
    }
   },
   "outputs": [
    {
     "data": {
      "text/html": [
       "<div>\n",
       "<style scoped>\n",
       "    .dataframe tbody tr th:only-of-type {\n",
       "        vertical-align: middle;\n",
       "    }\n",
       "\n",
       "    .dataframe tbody tr th {\n",
       "        vertical-align: top;\n",
       "    }\n",
       "\n",
       "    .dataframe thead th {\n",
       "        text-align: right;\n",
       "    }\n",
       "</style>\n",
       "<table border=\"1\" class=\"dataframe\">\n",
       "  <thead>\n",
       "    <tr style=\"text-align: right;\">\n",
       "      <th></th>\n",
       "      <th>Project Cost</th>\n",
       "    </tr>\n",
       "  </thead>\n",
       "  <tbody>\n",
       "    <tr>\n",
       "      <th>count</th>\n",
       "      <td>1.109981e+06</td>\n",
       "    </tr>\n",
       "    <tr>\n",
       "      <th>mean</th>\n",
       "      <td>7.415194e+02</td>\n",
       "    </tr>\n",
       "    <tr>\n",
       "      <th>std</th>\n",
       "      <td>1.083264e+03</td>\n",
       "    </tr>\n",
       "    <tr>\n",
       "      <th>min</th>\n",
       "      <td>3.529000e+01</td>\n",
       "    </tr>\n",
       "    <tr>\n",
       "      <th>25%</th>\n",
       "      <td>3.351200e+02</td>\n",
       "    </tr>\n",
       "    <tr>\n",
       "      <th>50%</th>\n",
       "      <td>5.153500e+02</td>\n",
       "    </tr>\n",
       "    <tr>\n",
       "      <th>75%</th>\n",
       "      <td>8.675100e+02</td>\n",
       "    </tr>\n",
       "    <tr>\n",
       "      <th>max</th>\n",
       "      <td>2.557377e+05</td>\n",
       "    </tr>\n",
       "  </tbody>\n",
       "</table>\n",
       "</div>"
      ],
      "text/plain": [
       "       Project Cost\n",
       "count  1.109981e+06\n",
       "mean   7.415194e+02\n",
       "std    1.083264e+03\n",
       "min    3.529000e+01\n",
       "25%    3.351200e+02\n",
       "50%    5.153500e+02\n",
       "75%    8.675100e+02\n",
       "max    2.557377e+05"
      ]
     },
     "execution_count": 4,
     "metadata": {},
     "output_type": "execute_result"
    }
   ],
   "source": [
    "# Valores estadísticos de la variable numérica\n",
    "data.describe()"
   ]
  },
  {
   "cell_type": "code",
   "execution_count": 5,
   "metadata": {},
   "outputs": [
    {
     "data": {
      "image/png": "[encoded data removed]",
      "text/plain": [
       "<Figure size 640x480 with 1 Axes>"
      ]
     },
     "metadata": {},
     "output_type": "display_data"
    }
   ],
   "source": [
    "# Visualización de la variable numérica\n",
    "data['Project Cost'].hist()\n",
    "plt.title(\"Distribución de la variable numérica\")\n",
    "plt.show()"
   ]
  },
  {
   "cell_type": "markdown",
   "metadata": {},
   "source": [
    "Nos damos cuenta que la variable numérica cuenta con valores atípicos así que serán tratados, primero se visualizarán:"
   ]
  },
  {
   "cell_type": "code",
   "execution_count": 6,
   "metadata": {},
   "outputs": [
    {
     "name": "stdout",
     "output_type": "stream",
     "text": [
      "Mediana: 515.35\n",
      "Datos perdidos: 0.13%\n"
     ]
    },
    {
     "data": {
      "image/png": "[encoded data removed]",
      "text/plain": [
       "<Figure size 640x480 with 1 Axes>"
      ]
     },
     "metadata": {},
     "output_type": "display_data"
    }
   ],
   "source": [
    "print(f'Mediana: {data[\"Project Cost\"].median()}')\n",
    "print(f\"Datos perdidos: {round(data[data['Project Cost']>10000].shape[0]*100/data.shape[0], 2)}%\")\n",
    "\n",
    "# Eliminar los datos mayores a 10000\n",
    "data = data[data['Project Cost']<10000]\n",
    "\n",
    "# Visualizar la distribución\n",
    "data['Project Cost'].hist()\n",
    "plt.title(\"Nueva distribución del costo de los proyectos\")\n",
    "plt.show()"
   ]
  },
  {
   "cell_type": "code",
   "execution_count": 7,
   "metadata": {
    "pycharm": {
     "name": "#%%\n"
    }
   },
   "outputs": [
    {
     "name": "stdout",
     "output_type": "stream",
     "text": [
      "\n",
      "Proyecto #0:\n",
      " Título: \n",
      "  Stand Up to Bullying: Together We Can! \n",
      "\n",
      " Descripción: \n",
      "  Did you know that 1-7 students in grades K-12 is either a bully or a victim of bullying? My goal is to raise prevention through being educated and aware of the effects and consequences of...     \n",
      "\n",
      " Categorías: \n",
      "  Applied Learning\n",
      "\n",
      "Proyecto #1:\n",
      " Título: \n",
      "  Learning in Color! \n",
      "\n",
      " Descripción: \n",
      "  Help us have a fun, interactive listening center in our class! Did you struggle to read when you were younger? Did it help to see the words and hear them read to you at the same time? This...     \n",
      "\n",
      " Categorías: \n",
      "  Applied Learning, Literacy & Language\n",
      "\n",
      "Proyecto #2:\n",
      " Título: \n",
      "  Help Second Grade ESL Students Develop Language to Speak and Read \n",
      "\n",
      " Descripción: \n",
      "  Visiting or moving to a new place can be very exciting yet frightening at the same time especially if you are unfamiliar with the native language. Learning a second language is a difficult...     \n",
      "\n",
      " Categorías: \n",
      "  Literacy & Language\n"
     ]
    }
   ],
   "source": [
    "# Visualizar ejemplos de proyectos\n",
    "for project in range(3):\n",
    "    print(f\"\\nProyecto #{project}:\")\n",
    "    print(f\" Título: \\n  {data['Project Title'][project]} \\n\\n Descripción: \\n  {data['Project Short Description'][project]} \\\n",
    "    \\n\\n Categorías: \\n  {data['Project Subject Category Tree'][project]}\")"
   ]
  },
  {
   "cell_type": "markdown",
   "metadata": {
    "pycharm": {
     "name": "#%% md\n"
    }
   },
   "source": [
    "**`Data Wrangling`**"
   ]
  },
  {
   "cell_type": "code",
   "execution_count": 8,
   "metadata": {
    "pycharm": {
     "name": "#%%\n"
    }
   },
   "outputs": [
    {
     "data": {
      "text/html": [
       "<div>\n",
       "<style scoped>\n",
       "    .dataframe tbody tr th:only-of-type {\n",
       "        vertical-align: middle;\n",
       "    }\n",
       "\n",
       "    .dataframe tbody tr th {\n",
       "        vertical-align: top;\n",
       "    }\n",
       "\n",
       "    .dataframe thead th {\n",
       "        text-align: right;\n",
       "    }\n",
       "</style>\n",
       "<table border=\"1\" class=\"dataframe\">\n",
       "  <thead>\n",
       "    <tr style=\"text-align: right;\">\n",
       "      <th></th>\n",
       "      <th>Project Title</th>\n",
       "      <th>Project Short Description</th>\n",
       "    </tr>\n",
       "  </thead>\n",
       "  <tbody>\n",
       "    <tr>\n",
       "      <th>0</th>\n",
       "      <td>Stand Up to Bullying: Together We Can!</td>\n",
       "      <td>Did you know that 1-7 students in grades K-12 ...</td>\n",
       "    </tr>\n",
       "    <tr>\n",
       "      <th>1</th>\n",
       "      <td>Learning in Color!</td>\n",
       "      <td>Help us have a fun, interactive listening cent...</td>\n",
       "    </tr>\n",
       "    <tr>\n",
       "      <th>2</th>\n",
       "      <td>Help Second Grade ESL Students Develop Languag...</td>\n",
       "      <td>Visiting or moving to a new place can be very ...</td>\n",
       "    </tr>\n",
       "    <tr>\n",
       "      <th>3</th>\n",
       "      <td>Help Bilingual Students Strengthen Reading Com...</td>\n",
       "      <td>Students at our school are still working hard ...</td>\n",
       "    </tr>\n",
       "    <tr>\n",
       "      <th>4</th>\n",
       "      <td>Help Us Make Each Minute Count!</td>\n",
       "      <td>\"Idle hands\" were something that Issac Watts s...</td>\n",
       "    </tr>\n",
       "    <tr>\n",
       "      <th>...</th>\n",
       "      <td>...</td>\n",
       "      <td>...</td>\n",
       "    </tr>\n",
       "    <tr>\n",
       "      <th>1109976</th>\n",
       "      <td>Screen Printing 101</td>\n",
       "      <td>Most of the scholars had no idea that they wou...</td>\n",
       "    </tr>\n",
       "    <tr>\n",
       "      <th>1109977</th>\n",
       "      <td>Flexible Seating for Super Second Graders!</td>\n",
       "      <td>My students are super second graders!!! Our sc...</td>\n",
       "    </tr>\n",
       "    <tr>\n",
       "      <th>1109978</th>\n",
       "      <td>Growing Artists!</td>\n",
       "      <td>I teach at a Title I school, and 76% of studen...</td>\n",
       "    </tr>\n",
       "    <tr>\n",
       "      <th>1109979</th>\n",
       "      <td>TIME For Kids!</td>\n",
       "      <td>I teach at a Title I school for a district tha...</td>\n",
       "    </tr>\n",
       "    <tr>\n",
       "      <th>1109980</th>\n",
       "      <td>Growing Digital Learners</td>\n",
       "      <td>My preschool students are the sweetest, despit...</td>\n",
       "    </tr>\n",
       "  </tbody>\n",
       "</table>\n",
       "<p>1108561 rows × 2 columns</p>\n",
       "</div>"
      ],
      "text/plain": [
       "                                             Project Title  \\\n",
       "0                   Stand Up to Bullying: Together We Can!   \n",
       "1                                       Learning in Color!   \n",
       "2        Help Second Grade ESL Students Develop Languag...   \n",
       "3        Help Bilingual Students Strengthen Reading Com...   \n",
       "4                         Help Us Make Each Minute Count!    \n",
       "...                                                    ...   \n",
       "1109976                                Screen Printing 101   \n",
       "1109977         Flexible Seating for Super Second Graders!   \n",
       "1109978                                   Growing Artists!   \n",
       "1109979                                     TIME For Kids!   \n",
       "1109980                           Growing Digital Learners   \n",
       "\n",
       "                                 Project Short Description  \n",
       "0        Did you know that 1-7 students in grades K-12 ...  \n",
       "1        Help us have a fun, interactive listening cent...  \n",
       "2        Visiting or moving to a new place can be very ...  \n",
       "3        Students at our school are still working hard ...  \n",
       "4        \"Idle hands\" were something that Issac Watts s...  \n",
       "...                                                    ...  \n",
       "1109976  Most of the scholars had no idea that they wou...  \n",
       "1109977  My students are super second graders!!! Our sc...  \n",
       "1109978  I teach at a Title I school, and 76% of studen...  \n",
       "1109979  I teach at a Title I school for a district tha...  \n",
       "1109980  My preschool students are the sweetest, despit...  \n",
       "\n",
       "[1108561 rows x 2 columns]"
      ]
     },
     "execution_count": 8,
     "metadata": {},
     "output_type": "execute_result"
    }
   ],
   "source": [
    "# Visualizar el texto de los títulos y descripciones\n",
    "data[['Project Title', 'Project Short Description']]"
   ]
  },
  {
   "cell_type": "markdown",
   "metadata": {
    "pycharm": {
     "name": "#%% md\n"
    }
   },
   "source": [
    "Se limpiará el texto para poder vectorizarlo y que los modelos de *machine learning* puedan interpretar las variables."
   ]
  },
  {
   "cell_type": "code",
   "execution_count": 9,
   "metadata": {
    "pycharm": {
     "name": "#%%\n"
    }
   },
   "outputs": [
    {
     "data": {
      "text/html": [
       "<div>\n",
       "<style scoped>\n",
       "    .dataframe tbody tr th:only-of-type {\n",
       "        vertical-align: middle;\n",
       "    }\n",
       "\n",
       "    .dataframe tbody tr th {\n",
       "        vertical-align: top;\n",
       "    }\n",
       "\n",
       "    .dataframe thead th {\n",
       "        text-align: right;\n",
       "    }\n",
       "</style>\n",
       "<table border=\"1\" class=\"dataframe\">\n",
       "  <thead>\n",
       "    <tr style=\"text-align: right;\">\n",
       "      <th></th>\n",
       "      <th>Project Title</th>\n",
       "      <th>Project Short Description</th>\n",
       "    </tr>\n",
       "  </thead>\n",
       "  <tbody>\n",
       "    <tr>\n",
       "      <th>0</th>\n",
       "      <td>stand up to bullying together we can</td>\n",
       "      <td>did you know that students in grades k is eith...</td>\n",
       "    </tr>\n",
       "    <tr>\n",
       "      <th>1</th>\n",
       "      <td>learning in color</td>\n",
       "      <td>help us have a fun interactive listening cente...</td>\n",
       "    </tr>\n",
       "    <tr>\n",
       "      <th>2</th>\n",
       "      <td>help second grade esl students develop languag...</td>\n",
       "      <td>visiting or moving to a new place can be very ...</td>\n",
       "    </tr>\n",
       "    <tr>\n",
       "      <th>3</th>\n",
       "      <td>help bilingual students strengthen reading com...</td>\n",
       "      <td>students at our school are still working hard ...</td>\n",
       "    </tr>\n",
       "    <tr>\n",
       "      <th>4</th>\n",
       "      <td>help us make each minute count</td>\n",
       "      <td>idle hands were something that issac watts sp...</td>\n",
       "    </tr>\n",
       "    <tr>\n",
       "      <th>...</th>\n",
       "      <td>...</td>\n",
       "      <td>...</td>\n",
       "    </tr>\n",
       "    <tr>\n",
       "      <th>1109976</th>\n",
       "      <td>screen printing</td>\n",
       "      <td>most of the scholars had no idea that they wou...</td>\n",
       "    </tr>\n",
       "    <tr>\n",
       "      <th>1109977</th>\n",
       "      <td>flexible seating for super second graders</td>\n",
       "      <td>my students are super second graders our schoo...</td>\n",
       "    </tr>\n",
       "    <tr>\n",
       "      <th>1109978</th>\n",
       "      <td>growing artists</td>\n",
       "      <td>i teach at a title i school and of students re...</td>\n",
       "    </tr>\n",
       "    <tr>\n",
       "      <th>1109979</th>\n",
       "      <td>time for kids</td>\n",
       "      <td>i teach at a title i school for a district tha...</td>\n",
       "    </tr>\n",
       "    <tr>\n",
       "      <th>1109980</th>\n",
       "      <td>growing digital learners</td>\n",
       "      <td>my preschool students are the sweetest despite...</td>\n",
       "    </tr>\n",
       "  </tbody>\n",
       "</table>\n",
       "<p>1108561 rows × 2 columns</p>\n",
       "</div>"
      ],
      "text/plain": [
       "                                             Project Title  \\\n",
       "0                    stand up to bullying together we can    \n",
       "1                                       learning in color    \n",
       "2        help second grade esl students develop languag...   \n",
       "3        help bilingual students strengthen reading com...   \n",
       "4                          help us make each minute count    \n",
       "...                                                    ...   \n",
       "1109976                                   screen printing    \n",
       "1109977         flexible seating for super second graders    \n",
       "1109978                                   growing artists    \n",
       "1109979                                     time for kids    \n",
       "1109980                           growing digital learners   \n",
       "\n",
       "                                 Project Short Description  \n",
       "0        did you know that students in grades k is eith...  \n",
       "1        help us have a fun interactive listening cente...  \n",
       "2        visiting or moving to a new place can be very ...  \n",
       "3        students at our school are still working hard ...  \n",
       "4         idle hands were something that issac watts sp...  \n",
       "...                                                    ...  \n",
       "1109976  most of the scholars had no idea that they wou...  \n",
       "1109977  my students are super second graders our schoo...  \n",
       "1109978  i teach at a title i school and of students re...  \n",
       "1109979  i teach at a title i school for a district tha...  \n",
       "1109980  my preschool students are the sweetest despite...  \n",
       "\n",
       "[1108561 rows x 2 columns]"
      ]
     },
     "execution_count": 9,
     "metadata": {},
     "output_type": "execute_result"
    }
   ],
   "source": [
    "# Limpiar el texto de las variables \"Project Title\" y \"Project Short Description\"\n",
    "for col in ['Project Title', 'Project Short Description']:\n",
    "    cleaned_text = []\n",
    "    for title in data[col]:\n",
    "        title = title.lower()\n",
    "        cleaned_text.append(re.sub('[^a-zA-Z]+', ' ', title))\n",
    "    data[col] = cleaned_text\n",
    "\n",
    "data[['Project Title', 'Project Short Description']]"
   ]
  },
  {
   "cell_type": "code",
   "execution_count": 10,
   "metadata": {
    "pycharm": {
     "name": "#%%\n"
    }
   },
   "outputs": [
    {
     "name": "stdout",
     "output_type": "stream",
     "text": [
      "\n",
      "Categorías del proyecto: ['Applied Learning' 'Applied Learning, Literacy & Language'\n",
      " 'Literacy & Language' 'Special Needs'\n",
      " 'Literacy & Language, History & Civics' 'Math & Science'\n",
      " 'History & Civics, Math & Science' 'Literacy & Language, Special Needs'\n",
      " 'Applied Learning, Special Needs' 'Health & Sports, Special Needs'\n",
      " 'Math & Science, Literacy & Language'\n",
      " 'Literacy & Language, Math & Science'\n",
      " 'Literacy & Language, Music & The Arts' 'Math & Science, Special Needs'\n",
      " 'Health & Sports' 'Music & The Arts' 'Math & Science, Applied Learning'\n",
      " 'Literacy & Language, Applied Learning'\n",
      " 'Applied Learning, Music & The Arts'\n",
      " 'History & Civics, Literacy & Language'\n",
      " 'Applied Learning, Math & Science' 'Health & Sports, Math & Science'\n",
      " 'Applied Learning, Health & Sports' 'History & Civics'\n",
      " 'History & Civics, Music & The Arts' 'Math & Science, History & Civics'\n",
      " 'Math & Science, Music & The Arts' 'Special Needs, Music & The Arts'\n",
      " 'History & Civics, Applied Learning' 'History & Civics, Special Needs'\n",
      " 'Music & The Arts, Special Needs' 'Literacy & Language, Health & Sports'\n",
      " 'Math & Science, Health & Sports' 'Health & Sports, Literacy & Language'\n",
      " 'Applied Learning, History & Civics' 'Music & The Arts, History & Civics'\n",
      " 'Health & Sports, Applied Learning' 'Music & The Arts, Applied Learning'\n",
      " 'Health & Sports, Music & The Arts' 'Special Needs, Health & Sports'\n",
      " 'History & Civics, Health & Sports' 'Music & The Arts, Health & Sports'\n",
      " 'Health & Sports, History & Civics'\n",
      " 'Health & Sports, Warmth, Care & Hunger'\n",
      " 'Special Needs, Warmth, Care & Hunger' 'Warmth, Care & Hunger'\n",
      " 'Math & Science, Warmth, Care & Hunger'\n",
      " 'Applied Learning, Warmth, Care & Hunger'\n",
      " 'Literacy & Language, Warmth, Care & Hunger'\n",
      " 'History & Civics, Warmth, Care & Hunger'\n",
      " 'Music & The Arts, Warmth, Care & Hunger']\n"
     ]
    }
   ],
   "source": [
    "# Tratar las variable de las categorías\n",
    "print(f\"\\nCategorías del proyecto: {data['Project Subject Category Tree'].unique()}\")"
   ]
  },
  {
   "cell_type": "code",
   "execution_count": 11,
   "metadata": {
    "pycharm": {
     "name": "#%%\n"
    }
   },
   "outputs": [
    {
     "name": "stdout",
     "output_type": "stream",
     "text": [
      "\n",
      "Categoría del proyecto: ['Applied Learning' 'Literacy & Language' 'Special Needs'\n",
      " 'History & Civics' 'Math & Science' 'Health & Sports' 'Music & The Arts'\n",
      " 'Warmth' 'Care & Hunger']\n"
     ]
    }
   ],
   "source": [
    "data['Project Subject Category Tree'] = data['Project Subject Category Tree'].str.split(', ')\n",
    "data = data.explode('Project Subject Category Tree')\n",
    "print(f\"\\nCategoría del proyecto: {data['Project Subject Category Tree'].unique()}\")"
   ]
  },
  {
   "cell_type": "code",
   "execution_count": 12,
   "metadata": {
    "pycharm": {
     "name": "#%%\n"
    }
   },
   "outputs": [
    {
     "data": {
      "image/png": "[encoded data removed]",
      "text/plain": [
       "<Figure size 640x480 with 1 Axes>"
      ]
     },
     "metadata": {},
     "output_type": "display_data"
    }
   ],
   "source": [
    "# Visualizar la cantidad de proyectos por categoría\n",
    "data['Project Subject Category Tree'].value_counts().plot(kind='barh', color='teal')\n",
    "plt.title(\"Projects per Category\")\n",
    "plt.show()"
   ]
  },
  {
   "cell_type": "code",
   "execution_count": 13,
   "metadata": {},
   "outputs": [
    {
     "data": {
      "text/plain": [
       "Literacy & Language    569687\n",
       "Math & Science         435955\n",
       "Applied Learning       155497\n",
       "Special Needs          133699\n",
       "Music & The Arts       116806\n",
       "Health & Sports         80497\n",
       "History & Civics        75289\n",
       "Warmth                  10506\n",
       "Care & Hunger           10506\n",
       "Name: Project Subject Category Tree, dtype: int64"
      ]
     },
     "execution_count": 13,
     "metadata": {},
     "output_type": "execute_result"
    }
   ],
   "source": [
    "data['Project Subject Category Tree'].value_counts()"
   ]
  },
  {
   "cell_type": "code",
   "execution_count": 14,
   "metadata": {},
   "outputs": [
    {
     "data": {
      "text/html": [
       "<div>\n",
       "<style scoped>\n",
       "    .dataframe tbody tr th:only-of-type {\n",
       "        vertical-align: middle;\n",
       "    }\n",
       "\n",
       "    .dataframe tbody tr th {\n",
       "        vertical-align: top;\n",
       "    }\n",
       "\n",
       "    .dataframe thead th {\n",
       "        text-align: right;\n",
       "    }\n",
       "</style>\n",
       "<table border=\"1\" class=\"dataframe\">\n",
       "  <thead>\n",
       "    <tr style=\"text-align: right;\">\n",
       "      <th></th>\n",
       "      <th>Project Title</th>\n",
       "      <th>Project Short Description</th>\n",
       "      <th>Project Subject Category Tree</th>\n",
       "      <th>Project Cost</th>\n",
       "      <th>Project Current Status</th>\n",
       "    </tr>\n",
       "  </thead>\n",
       "  <tbody>\n",
       "    <tr>\n",
       "      <th>0</th>\n",
       "      <td>stand up to bullying together we can</td>\n",
       "      <td>did you know that students in grades k is eith...</td>\n",
       "      <td>7</td>\n",
       "      <td>361.80</td>\n",
       "      <td>Fully Funded</td>\n",
       "    </tr>\n",
       "    <tr>\n",
       "      <th>1</th>\n",
       "      <td>learning in color</td>\n",
       "      <td>help us have a fun interactive listening cente...</td>\n",
       "      <td>7</td>\n",
       "      <td>512.85</td>\n",
       "      <td>Expired</td>\n",
       "    </tr>\n",
       "    <tr>\n",
       "      <th>1</th>\n",
       "      <td>learning in color</td>\n",
       "      <td>help us have a fun interactive listening cente...</td>\n",
       "      <td>9</td>\n",
       "      <td>512.85</td>\n",
       "      <td>Expired</td>\n",
       "    </tr>\n",
       "    <tr>\n",
       "      <th>2</th>\n",
       "      <td>help second grade esl students develop languag...</td>\n",
       "      <td>visiting or moving to a new place can be very ...</td>\n",
       "      <td>9</td>\n",
       "      <td>435.92</td>\n",
       "      <td>Fully Funded</td>\n",
       "    </tr>\n",
       "    <tr>\n",
       "      <th>3</th>\n",
       "      <td>help bilingual students strengthen reading com...</td>\n",
       "      <td>students at our school are still working hard ...</td>\n",
       "      <td>9</td>\n",
       "      <td>161.26</td>\n",
       "      <td>Fully Funded</td>\n",
       "    </tr>\n",
       "  </tbody>\n",
       "</table>\n",
       "</div>"
      ],
      "text/plain": [
       "                                       Project Title  \\\n",
       "0              stand up to bullying together we can    \n",
       "1                                 learning in color    \n",
       "1                                 learning in color    \n",
       "2  help second grade esl students develop languag...   \n",
       "3  help bilingual students strengthen reading com...   \n",
       "\n",
       "                           Project Short Description  \\\n",
       "0  did you know that students in grades k is eith...   \n",
       "1  help us have a fun interactive listening cente...   \n",
       "1  help us have a fun interactive listening cente...   \n",
       "2  visiting or moving to a new place can be very ...   \n",
       "3  students at our school are still working hard ...   \n",
       "\n",
       "   Project Subject Category Tree  Project Cost Project Current Status  \n",
       "0                              7        361.80           Fully Funded  \n",
       "1                              7        512.85                Expired  \n",
       "1                              9        512.85                Expired  \n",
       "2                              9        435.92           Fully Funded  \n",
       "3                              9        161.26           Fully Funded  "
      ]
     },
     "execution_count": 14,
     "metadata": {},
     "output_type": "execute_result"
    }
   ],
   "source": [
    "categories = {'Literacy & Language': 9,\n",
    "              'Math & Science': 8,\n",
    "              'Applied Learning': 7,\n",
    "              'Special Needs': 6,\n",
    "              'Music & The Arts': 5,\n",
    "              'Health & Sports': 4,\n",
    "              'History & Civics': 3,\n",
    "              'Warmth': 2,\n",
    "              'Care & Hunger': 1}\n",
    "data['Project Subject Category Tree'] = data['Project Subject Category Tree'].replace(categories)\n",
    "data.head()"
   ]
  },
  {
   "cell_type": "markdown",
   "metadata": {
    "pycharm": {
     "name": "#%% md\n"
    }
   },
   "source": [
    "Para fines prácticos, los proyectos que se clasifican como \"Fully Funded\" obtendrán el valor binario de $1$ y al resto (\"Expired\" y \"Live\") se les asignará un \"0\" dado que no fueron fondeados o no han sido. Se decide de esta manera ya que si en la vida real los proyectos \"Live\" no fueran seleccionados, no perjudicaríamos a quienes fondean los proyectos al \"comprometerlos\" con un sí."
   ]
  },
  {
   "cell_type": "code",
   "execution_count": 15,
   "metadata": {
    "pycharm": {
     "name": "#%%\n"
    }
   },
   "outputs": [
    {
     "data": {
      "text/html": [
       "<div>\n",
       "<style scoped>\n",
       "    .dataframe tbody tr th:only-of-type {\n",
       "        vertical-align: middle;\n",
       "    }\n",
       "\n",
       "    .dataframe tbody tr th {\n",
       "        vertical-align: top;\n",
       "    }\n",
       "\n",
       "    .dataframe thead th {\n",
       "        text-align: right;\n",
       "    }\n",
       "</style>\n",
       "<table border=\"1\" class=\"dataframe\">\n",
       "  <thead>\n",
       "    <tr style=\"text-align: right;\">\n",
       "      <th></th>\n",
       "      <th>Project Title</th>\n",
       "      <th>Project Short Description</th>\n",
       "      <th>Project Subject Category Tree</th>\n",
       "      <th>Project Cost</th>\n",
       "      <th>Project Current Status</th>\n",
       "    </tr>\n",
       "  </thead>\n",
       "  <tbody>\n",
       "    <tr>\n",
       "      <th>0</th>\n",
       "      <td>stand up to bullying together we can</td>\n",
       "      <td>did you know that students in grades k is eith...</td>\n",
       "      <td>7</td>\n",
       "      <td>361.80</td>\n",
       "      <td>1</td>\n",
       "    </tr>\n",
       "    <tr>\n",
       "      <th>1</th>\n",
       "      <td>learning in color</td>\n",
       "      <td>help us have a fun interactive listening cente...</td>\n",
       "      <td>7</td>\n",
       "      <td>512.85</td>\n",
       "      <td>0</td>\n",
       "    </tr>\n",
       "    <tr>\n",
       "      <th>1</th>\n",
       "      <td>learning in color</td>\n",
       "      <td>help us have a fun interactive listening cente...</td>\n",
       "      <td>9</td>\n",
       "      <td>512.85</td>\n",
       "      <td>0</td>\n",
       "    </tr>\n",
       "    <tr>\n",
       "      <th>2</th>\n",
       "      <td>help second grade esl students develop languag...</td>\n",
       "      <td>visiting or moving to a new place can be very ...</td>\n",
       "      <td>9</td>\n",
       "      <td>435.92</td>\n",
       "      <td>1</td>\n",
       "    </tr>\n",
       "    <tr>\n",
       "      <th>3</th>\n",
       "      <td>help bilingual students strengthen reading com...</td>\n",
       "      <td>students at our school are still working hard ...</td>\n",
       "      <td>9</td>\n",
       "      <td>161.26</td>\n",
       "      <td>1</td>\n",
       "    </tr>\n",
       "  </tbody>\n",
       "</table>\n",
       "</div>"
      ],
      "text/plain": [
       "                                       Project Title  \\\n",
       "0              stand up to bullying together we can    \n",
       "1                                 learning in color    \n",
       "1                                 learning in color    \n",
       "2  help second grade esl students develop languag...   \n",
       "3  help bilingual students strengthen reading com...   \n",
       "\n",
       "                           Project Short Description  \\\n",
       "0  did you know that students in grades k is eith...   \n",
       "1  help us have a fun interactive listening cente...   \n",
       "1  help us have a fun interactive listening cente...   \n",
       "2  visiting or moving to a new place can be very ...   \n",
       "3  students at our school are still working hard ...   \n",
       "\n",
       "   Project Subject Category Tree  Project Cost  Project Current Status  \n",
       "0                              7        361.80                       1  \n",
       "1                              7        512.85                       0  \n",
       "1                              9        512.85                       0  \n",
       "2                              9        435.92                       1  \n",
       "3                              9        161.26                       1  "
      ]
     },
     "execution_count": 15,
     "metadata": {},
     "output_type": "execute_result"
    }
   ],
   "source": [
    "categories = {'Fully Funded': 1,\n",
    "              'Expired': 0,\n",
    "              'Live': 0}\n",
    "data['Project Current Status'] = data['Project Current Status'].replace(categories)\n",
    "data.head()"
   ]
  },
  {
   "cell_type": "markdown",
   "metadata": {},
   "source": [
    "Vectorización de las variables con texto"
   ]
  },
  {
   "cell_type": "code",
   "execution_count": 16,
   "metadata": {},
   "outputs": [
    {
     "name": "stderr",
     "output_type": "stream",
     "text": [
      "[nltk_data] Downloading package stopwords to\n",
      "[nltk_data]     C:\\Users\\ferca\\AppData\\Roaming\\nltk_data...\n",
      "[nltk_data]   Package stopwords is already up-to-date!\n"
     ]
    },
    {
     "data": {
      "text/plain": [
       "True"
      ]
     },
     "execution_count": 16,
     "metadata": {},
     "output_type": "execute_result"
    }
   ],
   "source": [
    "nltk.download('stopwords')"
   ]
  },
  {
   "cell_type": "code",
   "execution_count": 17,
   "metadata": {},
   "outputs": [],
   "source": [
    "# Crear función para el objetco vectorizador\n",
    "def vectorizer(col, data):\n",
    "    # Crear el objeto vectorizador\n",
    "    Vectorizer = CountVectorizer(max_features=150, # Palabras máximas\n",
    "                                 min_df= 50, # Archivos mínimos donde debe aparecer la palabra\n",
    "                                 max_df= 0.7, # Porcentaje de archivos máximos donde debe aparecer\n",
    "                                 stop_words=stopwords.words('english')) # Eliminar stopwords\n",
    "    # Crear el corpus\n",
    "    text = []\n",
    "    for row in data[col]:\n",
    "        text.append(row)\n",
    "        \n",
    "    # Crear el BOW (Bag Of Words) con el vectorizador\n",
    "    my_bow = Vectorizer.fit_transform(text).toarray()\n",
    "    \n",
    "    # Transformar el BOW en un TF-IDF \n",
    "    transformer = TfidfTransformer()                        # Crear el objeto TF-IDF\n",
    "    transformer = transformer.fit(my_bow)                   # Transformar\n",
    "    my_tfidf = transformer.fit_transform(my_bow).toarray()  # Ejecutar\n",
    "    \n",
    "    # Convertir a dataframe\n",
    "    final = pd.DataFrame(my_tfidf)\n",
    "\n",
    "    # Hacer merge con los datos\n",
    "    data = final.merge(data, right_index=True, left_index=True)\n",
    "\n",
    "    # Eliminar la columna original (con texto)\n",
    "    data.drop(columns=[col], inplace=True)\n",
    "    return data, vectorizer, transformer"
   ]
  },
  {
   "attachments": {
    "image.png": {
     "image/png": "[encoded data removed]"
    }
   },
   "cell_type": "markdown",
   "metadata": {},
   "source": [
    "Se intentó realizar el mismo procedimiento para los títulos y las descripciones pero hubo un error en la memoría, por lo que únicamente se trabajará con la variable de las descripciones, ya que será el *input* recibido para la predicción final.\n",
    "![image.png](attachment:image.png)"
   ]
  },
  {
   "cell_type": "code",
   "execution_count": 18,
   "metadata": {
    "scrolled": false
   },
   "outputs": [
    {
     "data": {
      "text/html": [
       "<div>\n",
       "<style scoped>\n",
       "    .dataframe tbody tr th:only-of-type {\n",
       "        vertical-align: middle;\n",
       "    }\n",
       "\n",
       "    .dataframe tbody tr th {\n",
       "        vertical-align: top;\n",
       "    }\n",
       "\n",
       "    .dataframe thead th {\n",
       "        text-align: right;\n",
       "    }\n",
       "</style>\n",
       "<table border=\"1\" class=\"dataframe\">\n",
       "  <thead>\n",
       "    <tr style=\"text-align: right;\">\n",
       "      <th></th>\n",
       "      <th>0</th>\n",
       "      <th>1</th>\n",
       "      <th>2</th>\n",
       "      <th>3</th>\n",
       "      <th>4</th>\n",
       "      <th>5</th>\n",
       "      <th>6</th>\n",
       "      <th>7</th>\n",
       "      <th>8</th>\n",
       "      <th>9</th>\n",
       "      <th>...</th>\n",
       "      <th>143</th>\n",
       "      <th>144</th>\n",
       "      <th>145</th>\n",
       "      <th>146</th>\n",
       "      <th>147</th>\n",
       "      <th>148</th>\n",
       "      <th>149</th>\n",
       "      <th>Project Subject Category Tree</th>\n",
       "      <th>Project Cost</th>\n",
       "      <th>Project Current Status</th>\n",
       "    </tr>\n",
       "  </thead>\n",
       "  <tbody>\n",
       "    <tr>\n",
       "      <th>0</th>\n",
       "      <td>0.0</td>\n",
       "      <td>0.0</td>\n",
       "      <td>0.0</td>\n",
       "      <td>0.0</td>\n",
       "      <td>0.0</td>\n",
       "      <td>0.0</td>\n",
       "      <td>0.0</td>\n",
       "      <td>0.0</td>\n",
       "      <td>0.0</td>\n",
       "      <td>0.0</td>\n",
       "      <td>...</td>\n",
       "      <td>0.0</td>\n",
       "      <td>0.0</td>\n",
       "      <td>0.0</td>\n",
       "      <td>0.0</td>\n",
       "      <td>0.0</td>\n",
       "      <td>0.0</td>\n",
       "      <td>0.0</td>\n",
       "      <td>7</td>\n",
       "      <td>361.80</td>\n",
       "      <td>1</td>\n",
       "    </tr>\n",
       "    <tr>\n",
       "      <th>1</th>\n",
       "      <td>0.0</td>\n",
       "      <td>0.0</td>\n",
       "      <td>0.0</td>\n",
       "      <td>0.0</td>\n",
       "      <td>0.0</td>\n",
       "      <td>0.0</td>\n",
       "      <td>0.0</td>\n",
       "      <td>0.0</td>\n",
       "      <td>0.0</td>\n",
       "      <td>0.0</td>\n",
       "      <td>...</td>\n",
       "      <td>0.0</td>\n",
       "      <td>0.0</td>\n",
       "      <td>0.0</td>\n",
       "      <td>0.0</td>\n",
       "      <td>0.0</td>\n",
       "      <td>0.0</td>\n",
       "      <td>0.0</td>\n",
       "      <td>7</td>\n",
       "      <td>512.85</td>\n",
       "      <td>0</td>\n",
       "    </tr>\n",
       "    <tr>\n",
       "      <th>1</th>\n",
       "      <td>0.0</td>\n",
       "      <td>0.0</td>\n",
       "      <td>0.0</td>\n",
       "      <td>0.0</td>\n",
       "      <td>0.0</td>\n",
       "      <td>0.0</td>\n",
       "      <td>0.0</td>\n",
       "      <td>0.0</td>\n",
       "      <td>0.0</td>\n",
       "      <td>0.0</td>\n",
       "      <td>...</td>\n",
       "      <td>0.0</td>\n",
       "      <td>0.0</td>\n",
       "      <td>0.0</td>\n",
       "      <td>0.0</td>\n",
       "      <td>0.0</td>\n",
       "      <td>0.0</td>\n",
       "      <td>0.0</td>\n",
       "      <td>9</td>\n",
       "      <td>512.85</td>\n",
       "      <td>0</td>\n",
       "    </tr>\n",
       "    <tr>\n",
       "      <th>2</th>\n",
       "      <td>0.0</td>\n",
       "      <td>0.0</td>\n",
       "      <td>0.0</td>\n",
       "      <td>0.0</td>\n",
       "      <td>0.0</td>\n",
       "      <td>0.0</td>\n",
       "      <td>0.0</td>\n",
       "      <td>0.0</td>\n",
       "      <td>0.0</td>\n",
       "      <td>0.0</td>\n",
       "      <td>...</td>\n",
       "      <td>0.0</td>\n",
       "      <td>0.0</td>\n",
       "      <td>0.0</td>\n",
       "      <td>0.0</td>\n",
       "      <td>0.0</td>\n",
       "      <td>0.0</td>\n",
       "      <td>0.0</td>\n",
       "      <td>9</td>\n",
       "      <td>435.92</td>\n",
       "      <td>1</td>\n",
       "    </tr>\n",
       "    <tr>\n",
       "      <th>3</th>\n",
       "      <td>0.0</td>\n",
       "      <td>0.0</td>\n",
       "      <td>0.0</td>\n",
       "      <td>0.0</td>\n",
       "      <td>0.0</td>\n",
       "      <td>0.0</td>\n",
       "      <td>0.0</td>\n",
       "      <td>0.0</td>\n",
       "      <td>0.0</td>\n",
       "      <td>0.0</td>\n",
       "      <td>...</td>\n",
       "      <td>0.0</td>\n",
       "      <td>0.0</td>\n",
       "      <td>0.0</td>\n",
       "      <td>0.0</td>\n",
       "      <td>0.0</td>\n",
       "      <td>0.0</td>\n",
       "      <td>0.0</td>\n",
       "      <td>9</td>\n",
       "      <td>161.26</td>\n",
       "      <td>1</td>\n",
       "    </tr>\n",
       "  </tbody>\n",
       "</table>\n",
       "<p>5 rows × 153 columns</p>\n",
       "</div>"
      ],
      "text/plain": [
       "     0    1    2    3    4    5    6    7    8    9  ...  143  144  145  146  \\\n",
       "0  0.0  0.0  0.0  0.0  0.0  0.0  0.0  0.0  0.0  0.0  ...  0.0  0.0  0.0  0.0   \n",
       "1  0.0  0.0  0.0  0.0  0.0  0.0  0.0  0.0  0.0  0.0  ...  0.0  0.0  0.0  0.0   \n",
       "1  0.0  0.0  0.0  0.0  0.0  0.0  0.0  0.0  0.0  0.0  ...  0.0  0.0  0.0  0.0   \n",
       "2  0.0  0.0  0.0  0.0  0.0  0.0  0.0  0.0  0.0  0.0  ...  0.0  0.0  0.0  0.0   \n",
       "3  0.0  0.0  0.0  0.0  0.0  0.0  0.0  0.0  0.0  0.0  ...  0.0  0.0  0.0  0.0   \n",
       "\n",
       "   147  148  149  Project Subject Category Tree  Project Cost  \\\n",
       "0  0.0  0.0  0.0                              7        361.80   \n",
       "1  0.0  0.0  0.0                              7        512.85   \n",
       "1  0.0  0.0  0.0                              9        512.85   \n",
       "2  0.0  0.0  0.0                              9        435.92   \n",
       "3  0.0  0.0  0.0                              9        161.26   \n",
       "\n",
       "   Project Current Status  \n",
       "0                       1  \n",
       "1                       0  \n",
       "1                       0  \n",
       "2                       1  \n",
       "3                       1  \n",
       "\n",
       "[5 rows x 153 columns]"
      ]
     },
     "execution_count": 18,
     "metadata": {},
     "output_type": "execute_result"
    }
   ],
   "source": [
    "data, vetorizer_proj, transformer = vectorizer(col = 'Project Short Description', data = data)\n",
    "data.drop(columns=['Project Title'], inplace=True)\n",
    "data.head()"
   ]
  },
  {
   "cell_type": "markdown",
   "metadata": {
    "pycharm": {
     "name": "#%% md\n"
    }
   },
   "source": [
    "___\n",
    "### <font color = 'maroon'> Modelado </font>"
   ]
  },
  {
   "cell_type": "code",
   "execution_count": 19,
   "metadata": {
    "pycharm": {
     "name": "#%%\n"
    }
   },
   "outputs": [
    {
     "name": "stdout",
     "output_type": "stream",
     "text": [
      "Predictoras:\n",
      " [0, 1, 2, 3, 4, 5, 6, 7, 8, 9, 10, 11, 12, 13, 14, 15, 16, 17, 18, 19, 20, 21, 22, 23, 24, 25, 26, 27, 28, 29, 30, 31, 32, 33, 34, 35, 36, 37, 38, 39, 40, 41, 42, 43, 44, 45, 46, 47, 48, 49, 50, 51, 52, 53, 54, 55, 56, 57, 58, 59, 60, 61, 62, 63, 64, 65, 66, 67, 68, 69, 70, 71, 72, 73, 74, 75, 76, 77, 78, 79, 80, 81, 82, 83, 84, 85, 86, 87, 88, 89, 90, 91, 92, 93, 94, 95, 96, 97, 98, 99, 100, 101, 102, 103, 104, 105, 106, 107, 108, 109, 110, 111, 112, 113, 114, 115, 116, 117, 118, 119, 120, 121, 122, 123, 124, 125, 126, 127, 128, 129, 130, 131, 132, 133, 134, 135, 136, 137, 138, 139, 140, 141, 142, 143, 144, 145, 146, 147, 148, 149, 'Project Subject Category Tree', 'Project Cost'] \n",
      "\n",
      "Obetivo:\n",
      " ['Project Current Status']\n"
     ]
    }
   ],
   "source": [
    "# Identificar las variables predictoras y las objetivo\n",
    "respuesta= ['Project Current Status']\n",
    "predictoras= [c for c in data.columns if c not in respuesta]\n",
    "print(f'Predictoras:\\n {predictoras} \\n\\nObetivo:\\n {respuesta}')"
   ]
  },
  {
   "cell_type": "code",
   "execution_count": 20,
   "metadata": {
    "pycharm": {
     "name": "#%%\n"
    }
   },
   "outputs": [],
   "source": [
    "# Dividir los datos en dos grupos; 70% de entrenamiento y 30% para prueba\n",
    "X_train, X_test, y_train, y_test = train_test_split(data[predictoras],\n",
    "                                                    data[respuesta],\n",
    "                                                    test_size=0.3,\n",
    "                                                    random_state = 42)\n",
    "\n",
    "# Entrenamiento y prueba solo con la descripción\n",
    "not_allowed = ['Project Current Status', 'Project Subject Category Tree', 'Project Cost']\n",
    "predictoras= [c for c in data.columns if c not in not_allowed]\n",
    "X_train_desc, X_test_desc, y_train_desc, y_test_desc = train_test_split(data[predictoras],\n",
    "                                                       data[respuesta],\n",
    "                                                       test_size=0.3,\n",
    "                                                       random_state = 42)"
   ]
  },
  {
   "cell_type": "markdown",
   "metadata": {
    "pycharm": {
     "name": "#%%\n"
    }
   },
   "source": [
    "**`Regresión Logística`**"
   ]
  },
  {
   "cell_type": "code",
   "execution_count": 21,
   "metadata": {},
   "outputs": [],
   "source": [
    "# Entrenar la Regresión Logística\n",
    "model = LogisticRegression()\n",
    "model.fit(X_train, y_train)\n",
    "model_desc = LogisticRegression()\n",
    "model_desc.fit(X_train_desc, y_train_desc)\n",
    "\n",
    "# Probando el Modelo\n",
    "y_pred = model.predict(X_test)\n",
    "y_pred_desc = model_desc.predict(X_test_desc)"
   ]
  },
  {
   "cell_type": "code",
   "execution_count": 22,
   "metadata": {},
   "outputs": [
    {
     "name": "stdout",
     "output_type": "stream",
     "text": [
      "Con todas las variables:\n",
      "Accuracy: 0.7467478642612368\n",
      "\n",
      "Confusion Matrix\n",
      "      0       1\n",
      "0  9430  112300\n",
      "1  8383  346420\n",
      "\n",
      "\n",
      "Con la descripción:\n",
      "Accuracy: 0.7445507446493737\n",
      "Confusion Matrix\n",
      "   0       1\n",
      "0  0  121730\n",
      "1  0  354803\n"
     ]
    }
   ],
   "source": [
    "# Evaluar el modelo con el accuracy y con una matriz de confusión\n",
    "acc_LG = model.score(X_test, y_test)\n",
    "print(\"Con todas las variables:\")\n",
    "print(f\"Accuracy: {acc_LG}\")\n",
    "\n",
    "matrix = confusion_matrix(y_test, y_pred)\n",
    "print()\n",
    "print(\"Confusion Matrix\")\n",
    "print(pd.DataFrame(matrix))\n",
    "print()\n",
    "print(\"\\nCon la descripción:\")\n",
    "acc_LG_desc = model_desc.score(X_test_desc, y_test_desc)\n",
    "print(f\"Accuracy: {acc_LG_desc}\")\n",
    "\n",
    "matrix_desc = confusion_matrix(y_test_desc, y_pred_desc)\n",
    "print(\"Confusion Matrix\")\n",
    "print(pd.DataFrame(matrix_desc))"
   ]
  },
  {
   "cell_type": "markdown",
   "metadata": {},
   "source": [
    "**`Random Forest`**"
   ]
  },
  {
   "cell_type": "code",
   "execution_count": 23,
   "metadata": {},
   "outputs": [],
   "source": [
    "# Crear el modelo con los hiperparámetros\n",
    "model_RF = RandomForestClassifier(n_estimators=100,\n",
    "                                  max_depth=10,\n",
    "                                  min_samples_split=10,\n",
    "                                  min_samples_leaf=1,\n",
    "                                  bootstrap=True,\n",
    "                                  oob_score=False,\n",
    "                                  random_state=0,\n",
    "                                  verbose=0)\n",
    "\n",
    "model_RF_desc = RandomForestClassifier(n_estimators=100,\n",
    "                                       max_depth=10,\n",
    "                                       min_samples_split=10,\n",
    "                                       min_samples_leaf=1,\n",
    "                                       bootstrap=True,\n",
    "                                       oob_score=False,\n",
    "                                       random_state=0,\n",
    "                                       verbose=0)\n",
    "# Entrenar\n",
    "model_RF.fit(X_train, y_train)\n",
    "model_RF_desc.fit(X_train_desc, y_train_desc)\n",
    "\n",
    "\n",
    "# Evaluar\n",
    "yhat = model_RF.predict(X_test)\n",
    "yhat_desc = model_RF_desc.predict(X_test_desc)"
   ]
  },
  {
   "cell_type": "code",
   "execution_count": 24,
   "metadata": {},
   "outputs": [
    {
     "name": "stdout",
     "output_type": "stream",
     "text": [
      "\n",
      "Con todas la variables:\n",
      "Accuracy: 0.7445507446493737\n",
      "\n",
      "Con la descripción:\n",
      "Accuracy: 0.7445507446493737\n"
     ]
    }
   ],
   "source": [
    "# Evaluar del modelo\n",
    "print(\"\\nCon todas la variables:\")\n",
    "acc_RF = accuracy_score(y_test, yhat)\n",
    "print(f\"Accuracy: {acc_RF}\")\n",
    "print(\"\\nCon la descripción:\")\n",
    "acc_RF_desc = accuracy_score(y_test_desc, yhat_desc)\n",
    "print(f\"Accuracy: {acc_RF_desc}\")"
   ]
  },
  {
   "cell_type": "markdown",
   "metadata": {},
   "source": [
    "**`Resultados`**"
   ]
  },
  {
   "cell_type": "code",
   "execution_count": 25,
   "metadata": {},
   "outputs": [
    {
     "data": {
      "text/html": [
       "<div>\n",
       "<style scoped>\n",
       "    .dataframe tbody tr th:only-of-type {\n",
       "        vertical-align: middle;\n",
       "    }\n",
       "\n",
       "    .dataframe tbody tr th {\n",
       "        vertical-align: top;\n",
       "    }\n",
       "\n",
       "    .dataframe thead th {\n",
       "        text-align: right;\n",
       "    }\n",
       "</style>\n",
       "<table border=\"1\" class=\"dataframe\">\n",
       "  <thead>\n",
       "    <tr style=\"text-align: right;\">\n",
       "      <th></th>\n",
       "      <th>Modelo</th>\n",
       "      <th>R2</th>\n",
       "    </tr>\n",
       "  </thead>\n",
       "  <tbody>\n",
       "    <tr>\n",
       "      <th>0</th>\n",
       "      <td>Logistic Regression</td>\n",
       "      <td>0.746748</td>\n",
       "    </tr>\n",
       "    <tr>\n",
       "      <th>1</th>\n",
       "      <td>Random Forest</td>\n",
       "      <td>0.744551</td>\n",
       "    </tr>\n",
       "    <tr>\n",
       "      <th>2</th>\n",
       "      <td>Logistic Regression Desc</td>\n",
       "      <td>0.744551</td>\n",
       "    </tr>\n",
       "    <tr>\n",
       "      <th>3</th>\n",
       "      <td>Random Forest Desc</td>\n",
       "      <td>0.744551</td>\n",
       "    </tr>\n",
       "  </tbody>\n",
       "</table>\n",
       "</div>"
      ],
      "text/plain": [
       "                     Modelo        R2\n",
       "0       Logistic Regression  0.746748\n",
       "1             Random Forest  0.744551\n",
       "2  Logistic Regression Desc  0.744551\n",
       "3        Random Forest Desc  0.744551"
      ]
     },
     "execution_count": 25,
     "metadata": {},
     "output_type": "execute_result"
    }
   ],
   "source": [
    "# Crear tabla con los resultados\n",
    "resultados = {'Modelo': ['Logistic Regression','Random Forest', 'Logistic Regression Desc','Random Forest Desc'], \n",
    "              'R2': [acc_LG, acc_RF, acc_LG_desc, acc_RF_desc]}\n",
    "resultados = pd.DataFrame(resultados)\n",
    "resultados"
   ]
  },
  {
   "cell_type": "code",
   "execution_count": 26,
   "metadata": {},
   "outputs": [
    {
     "data": {
      "image/png": "[encoded data removed]",
      "text/plain": [
       "<Figure size 640x480 with 1 Axes>"
      ]
     },
     "metadata": {},
     "output_type": "display_data"
    }
   ],
   "source": [
    "plt.barh(resultados['Modelo'], resultados['R2'])\n",
    "plt.title(\"Resultados de los Modelos\")\n",
    "plt.show()"
   ]
  },
  {
   "cell_type": "markdown",
   "metadata": {},
   "source": [
    "El modelo que se considera mejor es aquel que tenga un *accuracy* más alto, ya que no interesa que tenga mayor precisión tanto en los $1$ como en los $0$. En este caso, el mejor con todas las variables fue la regresión logística y con únicamente la descripción también, aunque los resultados fueron muy similares respecto al bosque aleatorio. De igual forma, es un modelo más sencillo de implementar e interpretar. Se guardarán como un *pickle* junto con el transformador y vectorizador para utilizarlos para la *API*."
   ]
  },
  {
   "cell_type": "code",
   "execution_count": 27,
   "metadata": {},
   "outputs": [],
   "source": [
    "# Regresión logística con todas las variables\n",
    "with open('model.pickle', 'wb') as f:\n",
    "    pickle.dump(model, f)\n",
    "\n",
    "# C con las descripciones vectorizadas\n",
    "with open('model_desc.pickle', 'wb') as f:\n",
    "    pickle.dump(model_desc, f)\n",
    "\n",
    "# Transformador\n",
    "with open('tf_idf.pickle', 'wb') as f:\n",
    "    pickle.dump(transformer, f)\n",
    "\n",
    "# Vectorizador\n",
    "with open('vectorizer.pickle', 'wb') as f:\n",
    "    pickle.dump(vetorizer_proj, f)"
   ]
  }
 ],
 "metadata": {
  "kernelspec": {
   "display_name": "Python 3 (ipykernel)",
   "language": "python",
   "name": "python3"
  },
  "language_info": {
   "codemirror_mode": {
    "name": "ipython",
    "version": 3
   },
   "file_extension": ".py",
   "mimetype": "text/x-python",
   "name": "python",
   "nbconvert_exporter": "python",
   "pygments_lexer": "ipython3",
   "version": "3.7.3"
  }
 },
 "nbformat": 4,
 "nbformat_minor": 4
}
